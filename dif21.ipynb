{
 "cells": [
  {
   "cell_type": "markdown",
   "id": "9003152e",
   "metadata": {},
   "source": [
    "# Warmup-1 dff21"
   ]
  },
  {
   "cell_type": "markdown",
   "id": "471ed124",
   "metadata": {},
   "source": [
    "\n",
    "Given an int n, return the absolute difference between n and 21, except return double the absolute difference if n is over 21.\n",
    "\n",
    "\n",
    "diff21(19) → 2\n",
    "diff21(10) → 11\n",
    "diff21(21) → 0"
   ]
  },
  {
   "cell_type": "code",
   "execution_count": 3,
   "id": "8be81406",
   "metadata": {},
   "outputs": [],
   "source": [
    "def diff21(n):\n",
    "  if n > 21:\n",
    "    return (n-21)*2\n",
    "  else:\n",
    "    return 21-n"
   ]
  }
 ],
 "metadata": {
  "kernelspec": {
   "display_name": "Python 3 (ipykernel)",
   "language": "python",
   "name": "python3"
  },
  "language_info": {
   "codemirror_mode": {
    "name": "ipython",
    "version": 3
   },
   "file_extension": ".py",
   "mimetype": "text/x-python",
   "name": "python",
   "nbconvert_exporter": "python",
   "pygments_lexer": "ipython3",
   "version": "3.9.12"
  }
 },
 "nbformat": 4,
 "nbformat_minor": 5
}
